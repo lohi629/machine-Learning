{
 "cells": [
  {
   "cell_type": "code",
   "execution_count": 1,
   "id": "e1e41a3d",
   "metadata": {},
   "outputs": [
    {
     "name": "stdout",
     "output_type": "stream",
     "text": [
      "    Day   Outlook Humidity    Wind play\n",
      "0     1     sunny     high    weak   no\n",
      "1     2     sunny     high  strong   no\n",
      "2     3  overcast     high    weak  yes\n",
      "3     4      rain     high    weak  yes\n",
      "4     5      rain   normal    weak  yes\n",
      "5     6      rain   normal  strong   no\n",
      "6     7  overcast   normal  strong  yes\n",
      "7     8     sunny     high    weak   no\n",
      "8     9     sunny   normal    weak  yes\n",
      "9    10      rain   normal    weak  yes\n",
      "10   11     sunny   normal  strong  yes\n",
      "11   12  overcast     high  strong  yes\n",
      "12   13  overcast   normal    weak  yes\n",
      "13   14      rain     high  strong   no\n"
     ]
    }
   ],
   "source": [
    "import pandas as pd\n",
    "import numpy as np\n",
    "df=pd.read_excel('C:\\\\Users\\\\y20cs95\\\\Desktop\\\\Book1.xlsx')\n",
    "print(df)"
   ]
  },
  {
   "cell_type": "code",
   "execution_count": 59,
   "id": "d9d33392",
   "metadata": {},
   "outputs": [
    {
     "name": "stdout",
     "output_type": "stream",
     "text": [
      "9 5 14\n"
     ]
    }
   ],
   "source": [
    "d={'Outlook':'rain','Humidity':'high','Wind':'weak'}\n",
    "play=list(df['play'])\n",
    "yc=play.count('yes')\n",
    "nc=play.count('no')\n",
    "tot=len(df)\n",
    "pyc=yc/tot\n",
    "pnc=nc/tot\n",
    "print(yc,nc,tot)"
   ]
  },
  {
   "cell_type": "code",
   "execution_count": 60,
   "id": "fc956742",
   "metadata": {},
   "outputs": [],
   "source": [
    "outlook_yes=dict(df[df['play']=='yes']['Outlook'].value_counts())\n",
    "outlook_no=dict(df[df['play']=='no']['Outlook'].value_counts())\n",
    "#print(outlook_yes,outlook_no)\n",
    "hum_yes=dict(df[df['play']=='yes']['Humidity'].value_counts())\n",
    "hum_no=dict(df[df['play']=='no']['Humidity'].value_counts())\n",
    "wind_yes=dict(df[df['play']=='yes']['Wind'].value_counts())\n",
    "wind_no=dict(df[df['play']=='no']['Wind'].value_counts())\n"
   ]
  },
  {
   "cell_type": "code",
   "execution_count": 61,
   "id": "b1346c19",
   "metadata": {},
   "outputs": [],
   "source": [
    "\n",
    "def likelihood(attr,c):\n",
    "    l=dict()\n",
    "    for i in attr.keys():\n",
    "        l[i]=attr[i]/c\n",
    "    return l\n",
    "outlook_like_yes=likelihood(outlook_yes,yc)\n",
    "outlook_like_no=likelihood(outlook_no,nc)\n",
    "hum_like_yes=likelihood(hum_yes,yc)\n",
    "hum_like_no=likelihood(hum_no,nc)\n",
    "wind_like_yes=likelihood(wind_yes,yc)\n",
    "wind_like_no=likelihood(wind_no,nc)"
   ]
  },
  {
   "cell_type": "code",
   "execution_count": 76,
   "id": "50bdd71d",
   "metadata": {},
   "outputs": [
    {
     "name": "stdout",
     "output_type": "stream",
     "text": [
      "{'high': 0.8, 'normal': 0.2}\n",
      "overcast 0.4444444444444444\n",
      "rain 0.3333333333333333\n",
      "sunny 0.2222222222222222\n"
     ]
    }
   ],
   "source": [
    "print((hum_like_no))\n",
    "for i in outlook_like_yes.keys():\n",
    "    print(i,outlook_like_yes[i])"
   ]
  },
  {
   "cell_type": "code",
   "execution_count": 71,
   "id": "dab07df0",
   "metadata": {
    "scrolled": true
   },
   "outputs": [
    {
     "name": "stdout",
     "output_type": "stream",
     "text": [
      "0.07407407407407407\n"
     ]
    }
   ],
   "source": [
    "prob_yes=1\n",
    "for i in d.keys():\n",
    "    if d[i] in outlook_like_yes.keys():\n",
    "        prob_yes=prob_yes*outlook_like_yes[d[i]]\n",
    "    if d[i] in hum_like_yes.keys():\n",
    "        prob_yes=prob_yes*hum_like_yes[d[i]]\n",
    "    if d[i] in wind_like_yes.keys():\n",
    "        prob_yes=prob_yes*wind_like_yes[d[i]]\n",
    "print(prob_yes)"
   ]
  },
  {
   "cell_type": "code",
   "execution_count": 72,
   "id": "6b42f778",
   "metadata": {},
   "outputs": [
    {
     "name": "stdout",
     "output_type": "stream",
     "text": [
      "0.12800000000000003\n"
     ]
    }
   ],
   "source": [
    "prob_no=1\n",
    "for i in d.keys():\n",
    "    if d[i] in outlook_like_no.keys():\n",
    "        prob_no=prob_no*outlook_like_no[d[i]]\n",
    "    if d[i] in hum_like_no.keys():\n",
    "        prob_no=prob_no*hum_like_no[d[i]]\n",
    "    if d[i] in wind_like_no.keys():\n",
    "        prob_no=prob_no*wind_like_no[d[i]]\n",
    "print(prob_no)"
   ]
  },
  {
   "cell_type": "code",
   "execution_count": 73,
   "id": "4ee84088",
   "metadata": {},
   "outputs": [
    {
     "name": "stdout",
     "output_type": "stream",
     "text": [
      "0.04761904761904762 0.04571428571428573\n"
     ]
    }
   ],
   "source": [
    "y=prob_yes*pyc\n",
    "n=prob_no*pnc\n",
    "print(y,n)"
   ]
  },
  {
   "cell_type": "code",
   "execution_count": 74,
   "id": "bbb22717",
   "metadata": {},
   "outputs": [
    {
     "name": "stdout",
     "output_type": "stream",
     "text": [
      "the new tuple is classified into yes\n"
     ]
    }
   ],
   "source": [
    "if(y>n):\n",
    "    print(\"the new tuple is classified into yes\")\n",
    "else:\n",
    "     print(\"the new tuple is classified into no\")\n"
   ]
  },
  {
   "cell_type": "code",
   "execution_count": null,
   "id": "d01e52f9",
   "metadata": {},
   "outputs": [],
   "source": []
  }
 ],
 "metadata": {
  "kernelspec": {
   "display_name": "Python 3 (ipykernel)",
   "language": "python",
   "name": "python3"
  },
  "language_info": {
   "codemirror_mode": {
    "name": "ipython",
    "version": 3
   },
   "file_extension": ".py",
   "mimetype": "text/x-python",
   "name": "python",
   "nbconvert_exporter": "python",
   "pygments_lexer": "ipython3",
   "version": "3.9.7"
  }
 },
 "nbformat": 4,
 "nbformat_minor": 5
}
